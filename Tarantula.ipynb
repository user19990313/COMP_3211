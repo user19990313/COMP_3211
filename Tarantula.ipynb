{
 "cells": [
  {
   "cell_type": "markdown",
   "metadata": {},
   "source": [
    "## Import"
   ]
  },
  {
   "cell_type": "code",
   "execution_count": 1,
   "metadata": {},
   "outputs": [],
   "source": [
    "import numpy as np"
   ]
  },
  {
   "cell_type": "markdown",
   "metadata": {},
   "source": [
    "## Define wrapped division"
   ]
  },
  {
   "cell_type": "code",
   "execution_count": 2,
   "metadata": {},
   "outputs": [],
   "source": [
    "def division(a,b):\n",
    "    if a==0 or b==0:\n",
    "        return 0.0\n",
    "    return a/b"
   ]
  },
  {
   "cell_type": "markdown",
   "metadata": {},
   "source": [
    "## Load test result and coverage"
   ]
  },
  {
   "cell_type": "code",
   "execution_count": 3,
   "metadata": {},
   "outputs": [],
   "source": [
    "test_cov = np.loadtxt(\"qsort_qsort.py.csv\",dtype=np.int32, delimiter=\",\")\n",
    "test_result = np.loadtxt(\"qsort_result.txt\",dtype=np.int32, delimiter=\",\")"
   ]
  },
  {
   "cell_type": "markdown",
   "metadata": {},
   "source": [
    "## Process coverage data *(Tarantula uses binary coverage)"
   ]
  },
  {
   "cell_type": "code",
   "execution_count": 4,
   "metadata": {},
   "outputs": [],
   "source": [
    "test_cov_binary=np.int32(test_cov>0)"
   ]
  },
  {
   "cell_type": "markdown",
   "metadata": {},
   "source": [
    "## Initialize variables"
   ]
  },
  {
   "cell_type": "code",
   "execution_count": 5,
   "metadata": {},
   "outputs": [],
   "source": [
    "statement_count=len(test_cov[0])\n",
    "testcase_count=len(test_result)\n",
    "susp=[0.0]*statement_count\n",
    "total_pass=0\n",
    "total_fail=0\n",
    "pass_count = [0]*statement_count\n",
    "fail_count = [0]*statement_count"
   ]
  },
  {
   "cell_type": "markdown",
   "metadata": {},
   "source": [
    "## Count pass cases for each statement"
   ]
  },
  {
   "cell_type": "code",
   "execution_count": 6,
   "metadata": {},
   "outputs": [],
   "source": [
    "for i in range(0,testcase_count):\n",
    "    if test_result[i]==0:\n",
    "        total_pass+=1\n",
    "        pass_count=np.add(test_cov_binary[i],pass_count)\n",
    "    else:\n",
    "        total_fail+=1\n",
    "        fail_count=np.add(test_cov_binary[i],fail_count)"
   ]
  },
  {
   "cell_type": "markdown",
   "metadata": {},
   "source": [
    "## Calculate suspiciousness"
   ]
  },
  {
   "cell_type": "code",
   "execution_count": 7,
   "metadata": {},
   "outputs": [],
   "source": [
    "for i in range(0,statement_count):\n",
    "    if pass_count[i]>0:\n",
    "        susp[i]=division(division(pass_count[i],total_pass) , (division(pass_count[i],total_pass)+division(fail_count[i],total_fail)))\n",
    "        susp[i]=1-susp[i]"
   ]
  },
  {
   "cell_type": "code",
   "execution_count": 8,
   "metadata": {
    "scrolled": true
   },
   "outputs": [
    {
     "name": "stdout",
     "output_type": "stream",
     "text": [
      "line 19, suspiciousness is 0.635\n",
      "line 22, suspiciousness is 0.635\n",
      "line 4, suspiciousness is 0.500\n",
      "line 5, suspiciousness is 0.500\n",
      "line 6, suspiciousness is 0.500\n",
      "line 7, suspiciousness is 0.500\n",
      "line 8, suspiciousness is 0.500\n",
      "line 9, suspiciousness is 0.500\n",
      "line 10, suspiciousness is 0.500\n",
      "line 13, suspiciousness is 0.500\n",
      "line 14, suspiciousness is 0.500\n",
      "line 15, suspiciousness is 0.500\n",
      "line 16, suspiciousness is 0.500\n",
      "line 17, suspiciousness is 0.500\n",
      "line 18, suspiciousness is 0.500\n",
      "line 26, suspiciousness is 0.500\n",
      "line 27, suspiciousness is 0.500\n",
      "line 29, suspiciousness is 0.500\n",
      "line 30, suspiciousness is 0.500\n",
      "line 1, suspiciousness is 0.000\n",
      "line 2, suspiciousness is 0.000\n",
      "line 3, suspiciousness is 0.000\n",
      "line 11, suspiciousness is 0.000\n",
      "line 12, suspiciousness is 0.000\n",
      "line 20, suspiciousness is 0.000\n",
      "line 21, suspiciousness is 0.000\n",
      "line 23, suspiciousness is 0.000\n",
      "line 24, suspiciousness is 0.000\n",
      "line 25, suspiciousness is 0.000\n",
      "line 28, suspiciousness is 0.000\n",
      "line 31, suspiciousness is 0.000\n",
      "line 32, suspiciousness is 0.000\n",
      "line 33, suspiciousness is 0.000\n",
      "line 34, suspiciousness is 0.000\n",
      "line 35, suspiciousness is 0.000\n"
     ]
    }
   ],
   "source": [
    "susp_sorted=[[idx,susp_value] for idx,susp_value in enumerate(susp,1)]\n",
    "\n",
    "susp_sorted=sorted(susp_sorted,key=lambda x:x[1],reverse=True)\n",
    "for idx,susp_value in susp_sorted:\n",
    "    print(\"line {0}, suspiciousness is {1:.3f}\".format(idx,susp_value))"
   ]
  },
  {
   "cell_type": "code",
   "execution_count": null,
   "metadata": {},
   "outputs": [],
   "source": []
  }
 ],
 "metadata": {
  "kernelspec": {
   "display_name": "Python 3",
   "language": "python",
   "name": "python3"
  },
  "language_info": {
   "codemirror_mode": {
    "name": "ipython",
    "version": 3
   },
   "file_extension": ".py",
   "mimetype": "text/x-python",
   "name": "python",
   "nbconvert_exporter": "python",
   "pygments_lexer": "ipython3",
   "version": "3.7.2"
  }
 },
 "nbformat": 4,
 "nbformat_minor": 2
}
